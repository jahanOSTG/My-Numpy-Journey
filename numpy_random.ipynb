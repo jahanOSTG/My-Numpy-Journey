{
  "metadata": {
    "kernelspec": {
      "name": "python",
      "display_name": "Python (Pyodide)",
      "language": "python"
    },
    "language_info": {
      "codemirror_mode": {
        "name": "python",
        "version": 3
      },
      "file_extension": ".py",
      "mimetype": "text/x-python",
      "name": "python",
      "nbconvert_exporter": "python",
      "pygments_lexer": "ipython3",
      "version": "3.8"
    }
  },
  "nbformat_minor": 5,
  "nbformat": 4,
  "cells": [
    {
      "id": "92589fd0-0695-45f9-b26d-036c556224d2",
      "cell_type": "code",
      "source": "from numpy import random\nx=random.randint(1000)\nprint(x)\n",
      "metadata": {
        "trusted": true
      },
      "outputs": [
        {
          "name": "stdout",
          "output_type": "stream",
          "text": "702\n"
        }
      ],
      "execution_count": 2
    },
    {
      "id": "541dfbed-d3d6-402c-a377-1ba420dec828",
      "cell_type": "code",
      "source": "x=random.randint(100)\nprint(x)",
      "metadata": {
        "trusted": true
      },
      "outputs": [
        {
          "name": "stdout",
          "output_type": "stream",
          "text": "24\n"
        }
      ],
      "execution_count": 3
    },
    {
      "id": "4168b008-5294-4f55-89e5-568c03c0d006",
      "cell_type": "markdown",
      "source": "### Generate Random Float\n- The random module's rand() method returns a random float between 0 and 1.",
      "metadata": {}
    },
    {
      "id": "3bdd2708-45e4-4e1e-8e2c-ebef480ffbdc",
      "cell_type": "code",
      "source": "x=random.rand()\nprint(x)",
      "metadata": {
        "trusted": true
      },
      "outputs": [
        {
          "name": "stdout",
          "output_type": "stream",
          "text": "0.5291098596764529\n"
        }
      ],
      "execution_count": 4
    },
    {
      "id": "f6a7e900-1a33-42db-bb8d-fa81253e44b7",
      "cell_type": "code",
      "source": "x=random.randint(100,size=(6))\nprint(x)",
      "metadata": {
        "trusted": true
      },
      "outputs": [
        {
          "name": "stdout",
          "output_type": "stream",
          "text": "[ 0 11  5 65 43 43]\n"
        }
      ],
      "execution_count": 5
    },
    {
      "id": "2c02c616-4a3e-4029-bbe7-0bf33a2318e7",
      "cell_type": "code",
      "source": "x=random.randint(100,size=(3,7))\nprint(x)",
      "metadata": {
        "trusted": true
      },
      "outputs": [
        {
          "name": "stdout",
          "output_type": "stream",
          "text": "[[86 88 46 33 94 33 38]\n [95 72 13 86 30 61 62]\n [72 17 54 37 68 27 90]]\n"
        }
      ],
      "execution_count": 6
    },
    {
      "id": "de92f9ba-9700-4e00-b313-21394ee837eb",
      "cell_type": "code",
      "source": "x=random.rand(3,3)\nprint(x)",
      "metadata": {
        "trusted": true
      },
      "outputs": [
        {
          "name": "stdout",
          "output_type": "stream",
          "text": "[[0.94737619 0.27796768 0.14806086]\n [0.58495096 0.66816449 0.33133777]\n [0.98483416 0.43646296 0.89870595]]\n"
        }
      ],
      "execution_count": 7
    },
    {
      "id": "2de3ef0b-47c2-4e16-972c-1bd932d32381",
      "cell_type": "code",
      "source": "x=random.choice([4,6,2,1,5])\nprint(x)",
      "metadata": {
        "trusted": true
      },
      "outputs": [
        {
          "name": "stdout",
          "output_type": "stream",
          "text": "6\n"
        }
      ],
      "execution_count": 8
    },
    {
      "id": "2e5c83d2-f55e-4633-b476-15bce98eab0f",
      "cell_type": "code",
      "source": "x=random.choice([4,6,2,1,5],size=(3,5))\nprint(x)",
      "metadata": {
        "trusted": true
      },
      "outputs": [
        {
          "name": "stdout",
          "output_type": "stream",
          "text": "[[5 5 4 6 1]\n [2 1 4 2 6]\n [2 1 2 4 1]]\n"
        }
      ],
      "execution_count": 9
    },
    {
      "id": "da4f93e4-bc58-488f-a15f-de383d470908",
      "cell_type": "markdown",
      "source": "### Random Permutations of Elements\n- A permutation refers to an arrangement of elements. e.g. [3, 2, 1] is a permutation of [1, 2, 3] and vice-versa.\n\n- The NumPy Random module provides two methods for this: shuffle() and permutation().",
      "metadata": {}
    },
    {
      "id": "bf550ca4-70f3-44ce-aaf6-f68ff37f251f",
      "cell_type": "code",
      "source": "from numpy import random\nimport numpy as np\narr=np.array([3,6,2,67,3,9])\nrandom.shuffle(arr)\nprint(arr)",
      "metadata": {
        "trusted": true
      },
      "outputs": [
        {
          "name": "stdout",
          "output_type": "stream",
          "text": "[67  6  3  3  2  9]\n"
        }
      ],
      "execution_count": 10
    },
    {
      "id": "db7fefb1-702f-4854-8eeb-358d8a4fc5e1",
      "cell_type": "code",
      "source": "print(random.permutation(arr))",
      "metadata": {
        "trusted": true
      },
      "outputs": [
        {
          "name": "stdout",
          "output_type": "stream",
          "text": "[ 3  9  2 67  6  3]\n"
        }
      ],
      "execution_count": 11
    },
    {
      "id": "0cc642f5-672f-47bb-a24d-fc98e6923616",
      "cell_type": "code",
      "source": "",
      "metadata": {
        "trusted": true
      },
      "outputs": [],
      "execution_count": null
    }
  ]
}