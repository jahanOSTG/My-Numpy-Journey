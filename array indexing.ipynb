{
  "metadata": {
    "kernelspec": {
      "name": "python",
      "display_name": "Python (Pyodide)",
      "language": "python"
    },
    "language_info": {
      "codemirror_mode": {
        "name": "python",
        "version": 3
      },
      "file_extension": ".py",
      "mimetype": "text/x-python",
      "name": "python",
      "nbconvert_exporter": "python",
      "pygments_lexer": "ipython3",
      "version": "3.8"
    }
  },
  "nbformat_minor": 5,
  "nbformat": 4,
  "cells": [
    {
      "id": "7e876f3c-949d-4f4b-b337-5fde8ac1626c",
      "cell_type": "markdown",
      "source": "## access array elements",
      "metadata": {}
    },
    {
      "id": "0053d90c-8561-42b6-a3a2-c2b2fd2604a0",
      "cell_type": "code",
      "source": "import numpy as np\nfirst=np.array([3,5,6,2,5])\nprint(first)",
      "metadata": {
        "trusted": true
      },
      "outputs": [
        {
          "name": "stdout",
          "output_type": "stream",
          "text": "[3 5 6 2 5]\n"
        }
      ],
      "execution_count": 3
    },
    {
      "id": "4468d96c-98ec-41dc-9e40-3d7f8e54088b",
      "cell_type": "code",
      "source": "print(first[0])",
      "metadata": {
        "trusted": true
      },
      "outputs": [
        {
          "name": "stdout",
          "output_type": "stream",
          "text": "3\n"
        }
      ],
      "execution_count": 4
    },
    {
      "id": "c4f4a7e9-a69a-4614-b186-872c7bec04e6",
      "cell_type": "code",
      "source": "print(first[4])",
      "metadata": {
        "trusted": true
      },
      "outputs": [
        {
          "name": "stdout",
          "output_type": "stream",
          "text": "5\n"
        }
      ],
      "execution_count": 5
    },
    {
      "id": "faa19c50-1ed1-440e-86b9-cf1aaa2db79a",
      "cell_type": "code",
      "source": "print(first[2]+first[3])",
      "metadata": {
        "trusted": true
      },
      "outputs": [
        {
          "name": "stdout",
          "output_type": "stream",
          "text": "8\n"
        }
      ],
      "execution_count": 6
    },
    {
      "id": "d498f31a-8103-4bed-8431-d04b346b5019",
      "cell_type": "code",
      "source": "import numpy as np\nfirst=np.array([[3,5,6,2,5],[4,1,5,3,4]])\nprint(first)",
      "metadata": {
        "trusted": true
      },
      "outputs": [
        {
          "name": "stdout",
          "output_type": "stream",
          "text": "[[3 5 6 2 5]\n [4 1 5 3 4]]\n"
        }
      ],
      "execution_count": 7
    },
    {
      "id": "3fc1206e-fd40-4ecf-919c-95101094b388",
      "cell_type": "code",
      "source": "print(first[1,0])",
      "metadata": {
        "trusted": true
      },
      "outputs": [
        {
          "name": "stdout",
          "output_type": "stream",
          "text": "4\n"
        }
      ],
      "execution_count": 9
    },
    {
      "id": "639f70f5-b8b1-4843-9037-0ec19fade561",
      "cell_type": "code",
      "source": "print(first[1,2])",
      "metadata": {
        "trusted": true
      },
      "outputs": [
        {
          "name": "stdout",
          "output_type": "stream",
          "text": "5\n"
        }
      ],
      "execution_count": 10
    },
    {
      "id": "f1ce6cbf-f40e-4900-b66a-5c8df0741e6f",
      "cell_type": "code",
      "source": "print(first[0,-1])",
      "metadata": {
        "trusted": true,
        "tags": [],
        "editable": true,
        "slideshow": {
          "slide_type": ""
        }
      },
      "outputs": [
        {
          "name": "stdout",
          "output_type": "stream",
          "text": "5\n"
        }
      ],
      "execution_count": 12
    },
    {
      "id": "c1f584eb-95d9-4397-a1bb-07f683477c7d",
      "cell_type": "markdown",
      "source": "## Numpy Array Slicing",
      "metadata": {}
    },
    {
      "id": "14f851dc-590a-4b23-b103-2ad1b9a6b4aa",
      "cell_type": "code",
      "source": "import numpy as np \nnum=np.array([5,3,6,3,2,5,7,7])\nprint(num)",
      "metadata": {
        "trusted": true
      },
      "outputs": [
        {
          "name": "stdout",
          "output_type": "stream",
          "text": "[5 3 6 3 2 5 7 7]\n"
        }
      ],
      "execution_count": 15
    },
    {
      "id": "bc496d79-93ac-4cd1-98d4-e10c665d8f5b",
      "cell_type": "code",
      "source": "print(num[2:])",
      "metadata": {
        "trusted": true
      },
      "outputs": [
        {
          "name": "stdout",
          "output_type": "stream",
          "text": "[6 3 2 5 7 7]\n"
        }
      ],
      "execution_count": 16
    },
    {
      "id": "6a011f5c-7a88-413d-9bea-cab093ab2862",
      "cell_type": "code",
      "source": "print(num[4:6])",
      "metadata": {
        "trusted": true
      },
      "outputs": [
        {
          "name": "stdout",
          "output_type": "stream",
          "text": "[2 5]\n"
        }
      ],
      "execution_count": 17
    },
    {
      "id": "ff8768af-d0e2-4eba-8d77-f9d0dc3d3e2b",
      "cell_type": "code",
      "source": "print(num[:5])",
      "metadata": {
        "trusted": true
      },
      "outputs": [
        {
          "name": "stdout",
          "output_type": "stream",
          "text": "[5 3 6 3 2]\n"
        }
      ],
      "execution_count": 18
    },
    {
      "id": "5aa174d9-1449-413c-8ff8-54a1fe2ab8a8",
      "cell_type": "markdown",
      "source": "## arr[start:stop:step]",
      "metadata": {}
    },
    {
      "id": "bbd355c6-cb7d-406f-a8d5-7b4786e7dcc8",
      "cell_type": "code",
      "source": "import numpy as np \nnum=np.array([5,3,6,3,2,5,7,7])\nprint(num[1:7:3])",
      "metadata": {
        "trusted": true
      },
      "outputs": [
        {
          "name": "stdout",
          "output_type": "stream",
          "text": "[3 2]\n"
        }
      ],
      "execution_count": 20
    },
    {
      "id": "e63bc35b-3903-4699-9d8c-d7128ab03fb7",
      "cell_type": "code",
      "source": "print(num[::3])",
      "metadata": {
        "trusted": true
      },
      "outputs": [
        {
          "name": "stdout",
          "output_type": "stream",
          "text": "[5 3 7]\n"
        }
      ],
      "execution_count": 22
    },
    {
      "id": "fdf32d8d-c8c4-4163-a2d9-68800f1f5376",
      "cell_type": "markdown",
      "source": "## \".shape\" _ Rows and Column",
      "metadata": {}
    },
    {
      "id": "48422782-daf0-4efd-9400-252dcc013110",
      "cell_type": "code",
      "source": "## \".ndim\" _ Number of Dimention\n## \".size\" _ Total number of Elements\n## \".dtype\"_ DataType",
      "metadata": {
        "trusted": true
      },
      "outputs": [],
      "execution_count": 32
    },
    {
      "id": "1d8dc777-9ebb-4453-8680-f1744ce991db",
      "cell_type": "code",
      "source": "import numpy as np\narr1=np.array([1,2,3])\narr2=np.array([[1,2],[3,4]])\nprint(arr1)\nprint(arr2)",
      "metadata": {
        "trusted": true,
        "tags": [],
        "editable": true,
        "slideshow": {
          "slide_type": ""
        }
      },
      "outputs": [
        {
          "name": "stdout",
          "output_type": "stream",
          "text": "[1 2 3]\n[[1 2]\n [3 4]]\n"
        }
      ],
      "execution_count": 28
    },
    {
      "id": "61f28eff-d072-4204-a2c4-c46de7777ec0",
      "cell_type": "code",
      "source": "print(arr2.shape)",
      "metadata": {
        "trusted": true
      },
      "outputs": [
        {
          "name": "stdout",
          "output_type": "stream",
          "text": "(2, 2)\n"
        }
      ],
      "execution_count": 29
    },
    {
      "id": "4ccf0031-4a60-43da-bcac-33d4da9916f8",
      "cell_type": "code",
      "source": "print(arr1.shape)",
      "metadata": {
        "trusted": true
      },
      "outputs": [
        {
          "name": "stdout",
          "output_type": "stream",
          "text": "(3,)\n"
        }
      ],
      "execution_count": 30
    },
    {
      "id": "0f7b7e49-396b-4b19-b1e8-b097d1b5f235",
      "cell_type": "code",
      "source": "",
      "metadata": {
        "trusted": true
      },
      "outputs": [],
      "execution_count": null
    }
  ]
}