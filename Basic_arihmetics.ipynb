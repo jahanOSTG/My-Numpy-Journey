{
  "metadata": {
    "kernelspec": {
      "name": "python",
      "display_name": "Python (Pyodide)",
      "language": "python"
    },
    "language_info": {
      "codemirror_mode": {
        "name": "python",
        "version": 3
      },
      "file_extension": ".py",
      "mimetype": "text/x-python",
      "name": "python",
      "nbconvert_exporter": "python",
      "pygments_lexer": "ipython3",
      "version": "3.8"
    }
  },
  "nbformat_minor": 5,
  "nbformat": 4,
  "cells": [
    {
      "id": "f1d655ba-a658-4ef4-9151-1d1db71f8cb2",
      "cell_type": "markdown",
      "source": "### Addition add() function sums contents of 2 array",
      "metadata": {}
    },
    {
      "id": "832b81fd-06bb-4b5a-ba28-10ac82a9ef0e",
      "cell_type": "code",
      "source": "import numpy as np\narr1=np.array([32,56,1,7,543])\narr2=np.array([23,5,12,7,4])\naddition=np.add(arr1,arr2)\nprint(addition)",
      "metadata": {
        "trusted": true
      },
      "outputs": [
        {
          "name": "stdout",
          "output_type": "stream",
          "text": "[ 55  61  13  14 547]\n"
        }
      ],
      "execution_count": 2
    },
    {
      "id": "1d393c5d-189f-4b3d-b91b-26a795e875a6",
      "cell_type": "markdown",
      "source": "### Subtraction",
      "metadata": {}
    },
    {
      "id": "b8e2b50b-61b6-4dc2-a189-5e57aebe7b0b",
      "cell_type": "code",
      "source": "import numpy as np\narr1=np.array([32,56,1,7,543])\narr2=np.array([23,5,12,7,4])\naddition=np.subtract(arr1,arr2)\nprint(addition)",
      "metadata": {
        "trusted": true
      },
      "outputs": [
        {
          "name": "stdout",
          "output_type": "stream",
          "text": "[  9  51 -11   0 539]\n"
        }
      ],
      "execution_count": 3
    },
    {
      "id": "0f905662-4bc4-4601-8aa5-1c219c4eff73",
      "cell_type": "markdown",
      "source": "### Multyplication",
      "metadata": {}
    },
    {
      "id": "9e267a23-9504-4c3b-b6b4-9beea64b761c",
      "cell_type": "code",
      "source": "import numpy as np\narr1=np.array([32,56,1,7,543])\narr2=np.array([23,5,12,7,4])\naddition=np.multiply(arr1,arr2)\nprint(addition)",
      "metadata": {
        "trusted": true
      },
      "outputs": [
        {
          "name": "stdout",
          "output_type": "stream",
          "text": "[ 736  280   12   49 2172]\n"
        }
      ],
      "execution_count": 4
    },
    {
      "id": "a37dfb83-f009-480b-8984-70f4bcd48433",
      "cell_type": "markdown",
      "source": "### Division",
      "metadata": {}
    },
    {
      "id": "29685fa6-f576-4a6d-8a74-3bb069f56b36",
      "cell_type": "code",
      "source": "import numpy as np\narr1=np.array([32,56,1,7,543])\narr2=np.array([2,5,2,7,4])\naddition=np.divide(arr1,arr2)\nprint(addition)",
      "metadata": {
        "trusted": true
      },
      "outputs": [
        {
          "name": "stdout",
          "output_type": "stream",
          "text": "[ 16.    11.2    0.5    1.   135.75]\n"
        }
      ],
      "execution_count": 6
    },
    {
      "id": "65016fe3-587f-4561-806a-05b16c55eb13",
      "cell_type": "markdown",
      "source": "### Power",
      "metadata": {}
    },
    {
      "id": "d631521f-e36a-4339-9520-7dbf3ac72406",
      "cell_type": "code",
      "source": "import numpy as np\narr1=np.array([32,56,1,7,543])\narr2=np.array([2,5,2,7,4])\npower=np.power(arr1,arr2)\nprint(power)",
      "metadata": {
        "trusted": true
      },
      "outputs": [
        {
          "name": "stdout",
          "output_type": "stream",
          "text": "[      1024  550731776          1     823543 1036586881]\n"
        }
      ],
      "execution_count": 7
    },
    {
      "id": "6ab5c5fd-8dad-4832-897f-a34c247c8bf4",
      "cell_type": "markdown",
      "source": "### Remainder",
      "metadata": {}
    },
    {
      "id": "0a32c2ea-4621-4aa9-b1e5-4e48901990b4",
      "cell_type": "code",
      "source": "import numpy as np\n\narr1 = np.array([10, 20, 30, 40, 50, 60])\narr2 = np.array([3, 7, 9, 8, 2, 33])\n\nmode = np.mod(arr1, arr2)\n\nprint(mode)",
      "metadata": {
        "trusted": true
      },
      "outputs": [
        {
          "name": "stdout",
          "output_type": "stream",
          "text": "[ 1  6  3  0  0 27]\n"
        }
      ],
      "execution_count": 8
    },
    {
      "id": "b6f1ed9f-f162-46ef-8e0e-608111e1e4a1",
      "cell_type": "code",
      "source": "import numpy as np\n\narr1 = np.array([10, 20, 30, 40, 50, 60])\narr2 = np.array([3, 7, 9, 8, 2, 33])\n\nmode = np.remainder(arr1, arr2)\n\nprint(mode)",
      "metadata": {
        "trusted": true
      },
      "outputs": [
        {
          "name": "stdout",
          "output_type": "stream",
          "text": "[ 1  6  3  0  0 27]\n"
        }
      ],
      "execution_count": 9
    },
    {
      "id": "ea749f79-63d9-4079-a25b-f655614869d9",
      "cell_type": "markdown",
      "source": "### Absolute Values",
      "metadata": {}
    },
    {
      "id": "6f2675e4-1ef4-46b8-800a-feb26e9fccf2",
      "cell_type": "code",
      "source": "import numpy as np\narr=np.array([7.47835,-1,-4,-7,0.57])\nabsolute=np.absolute(arr)\nprint(absolute)",
      "metadata": {
        "trusted": true
      },
      "outputs": [
        {
          "name": "stdout",
          "output_type": "stream",
          "text": "[7.47835 1.      4.      7.      0.57   ]\n"
        }
      ],
      "execution_count": 10
    },
    {
      "id": "004b1026-2cce-415d-b656-40dcb587042a",
      "cell_type": "code",
      "source": "",
      "metadata": {
        "trusted": true
      },
      "outputs": [],
      "execution_count": null
    }
  ]
}