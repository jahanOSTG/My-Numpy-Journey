{
  "metadata": {
    "kernelspec": {
      "name": "python",
      "display_name": "Python (Pyodide)",
      "language": "python"
    },
    "language_info": {
      "codemirror_mode": {
        "name": "python",
        "version": 3
      },
      "file_extension": ".py",
      "mimetype": "text/x-python",
      "name": "python",
      "nbconvert_exporter": "python",
      "pygments_lexer": "ipython3",
      "version": "3.8"
    }
  },
  "nbformat_minor": 5,
  "nbformat": 4,
  "cells": [
    {
      "id": "3f0eaa8a-333f-43be-9456-79b97de0fac7",
      "cell_type": "markdown",
      "source": "## create 1D Numpy Array with number from 0 to 9",
      "metadata": {
        "tags": [],
        "editable": true,
        "slideshow": {
          "slide_type": ""
        }
      }
    },
    {
      "id": "4b5da1b4-e265-45e5-becd-2aa4d8cf81ae",
      "cell_type": "code",
      "source": "import numpy as np\narr=np.arange(10)\narr",
      "metadata": {
        "trusted": true
      },
      "outputs": [
        {
          "execution_count": 1,
          "output_type": "execute_result",
          "data": {
            "text/plain": "array([0, 1, 2, 3, 4, 5, 6, 7, 8, 9])"
          },
          "metadata": {}
        }
      ],
      "execution_count": 1
    },
    {
      "id": "06cf6faa-79e6-4955-a8d1-114bf0e8df65",
      "cell_type": "code",
      "source": "print(arr)",
      "metadata": {
        "trusted": true
      },
      "outputs": [
        {
          "name": "stdout",
          "output_type": "stream",
          "text": "[0 1 2 3 4 5 6 7 8 9]\n"
        }
      ],
      "execution_count": 2
    },
    {
      "id": "ccc1de0d-54f5-4184-8507-25a49a96a6eb",
      "cell_type": "markdown",
      "source": "## extract all odd number from a array",
      "metadata": {
        "tags": [],
        "editable": true,
        "slideshow": {
          "slide_type": ""
        }
      }
    },
    {
      "id": "f72793a9-9ced-4e81-9a50-f16921168f1b",
      "cell_type": "code",
      "source": "import numpy as np\narr=np.array([0 ,1, 2, 3, 4, 5, 6, 7, 8, 9])\nodd=arr[arr%2==1]\nodd",
      "metadata": {
        "trusted": true
      },
      "outputs": [
        {
          "execution_count": 9,
          "output_type": "execute_result",
          "data": {
            "text/plain": "array([1, 3, 5, 7, 9])"
          },
          "metadata": {}
        }
      ],
      "execution_count": 9
    },
    {
      "id": "3885f0d9-ab0d-4a04-a019-98be4b0a690b",
      "cell_type": "code",
      "source": "print(odd)",
      "metadata": {
        "trusted": true
      },
      "outputs": [
        {
          "name": "stdout",
          "output_type": "stream",
          "text": "[1 3 5 7 9]\n"
        }
      ],
      "execution_count": 10
    },
    {
      "id": "07caf4be-e6de-423e-91ad-3147eefaeefe",
      "cell_type": "markdown",
      "source": "## extract all even number",
      "metadata": {}
    },
    {
      "id": "8471955a-a899-451d-9236-383d49ab2560",
      "cell_type": "code",
      "source": "import numpy as np\narr=np.array([0 ,1, 2, 3, 4, 5, 6, 7, 8, 9])\neven=arr[arr%2==0]\nprint(even)",
      "metadata": {
        "trusted": true
      },
      "outputs": [
        {
          "name": "stdout",
          "output_type": "stream",
          "text": "[0 2 4 6 8]\n"
        }
      ],
      "execution_count": 12
    },
    {
      "id": "0f5a4d24-72bb-4256-91fc-75db6f43f55b",
      "cell_type": "markdown",
      "source": "## reshape array",
      "metadata": {}
    },
    {
      "id": "409b3fd9-f652-4f48-8781-378aa9fe27b8",
      "cell_type": "code",
      "source": "import numpy as np\nfirst=np.arange(20)\nfirst",
      "metadata": {
        "trusted": true
      },
      "outputs": [
        {
          "execution_count": 13,
          "output_type": "execute_result",
          "data": {
            "text/plain": "array([ 0,  1,  2,  3,  4,  5,  6,  7,  8,  9, 10, 11, 12, 13, 14, 15, 16,\n       17, 18, 19])"
          },
          "metadata": {}
        }
      ],
      "execution_count": 13
    },
    {
      "id": "7f61c259-0dd0-4be3-9631-55acd830dc09",
      "cell_type": "code",
      "source": "shape=first.reshape(4,5)\nprint(shape)",
      "metadata": {
        "trusted": true
      },
      "outputs": [
        {
          "name": "stdout",
          "output_type": "stream",
          "text": "[[ 0  1  2  3  4]\n [ 5  6  7  8  9]\n [10 11 12 13 14]\n [15 16 17 18 19]]\n"
        }
      ],
      "execution_count": 14
    },
    {
      "id": "4cf0df72-6c25-4b1f-b052-d9b58b621406",
      "cell_type": "markdown",
      "source": "## identity matrix",
      "metadata": {}
    },
    {
      "id": "ce0da02c-ea5e-46b0-bee5-f21e417ebc8c",
      "cell_type": "code",
      "source": "identity=np.eye(5)\nprint(identity)",
      "metadata": {
        "trusted": true
      },
      "outputs": [
        {
          "name": "stdout",
          "output_type": "stream",
          "text": "[[1. 0. 0. 0. 0.]\n [0. 1. 0. 0. 0.]\n [0. 0. 1. 0. 0.]\n [0. 0. 0. 1. 0.]\n [0. 0. 0. 0. 1.]]\n"
        }
      ],
      "execution_count": 15
    },
    {
      "id": "3f464aac-526c-4d9f-bef6-35d2f33ca5b4",
      "cell_type": "code",
      "source": "",
      "metadata": {
        "trusted": true
      },
      "outputs": [],
      "execution_count": null
    }
  ]
}