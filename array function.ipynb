{
  "metadata": {
    "kernelspec": {
      "name": "python",
      "display_name": "Python (Pyodide)",
      "language": "python"
    },
    "language_info": {
      "codemirror_mode": {
        "name": "python",
        "version": 3
      },
      "file_extension": ".py",
      "mimetype": "text/x-python",
      "name": "python",
      "nbconvert_exporter": "python",
      "pygments_lexer": "ipython3",
      "version": "3.8"
    }
  },
  "nbformat_minor": 5,
  "nbformat": 4,
  "cells": [
    {
      "id": "3d1b8333-3990-4e28-b977-c513bda05615",
      "cell_type": "markdown",
      "source": "### useful array functions",
      "metadata": {
        "tags": [],
        "editable": true,
        "slideshow": {
          "slide_type": ""
        }
      }
    },
    {
      "id": "928e2910-e024-41eb-a3f6-57a7ea0e9e25",
      "cell_type": "code",
      "source": "import numpy as np\narr=np.zeros((2,3))\narr",
      "metadata": {
        "trusted": true
      },
      "outputs": [
        {
          "execution_count": 5,
          "output_type": "execute_result",
          "data": {
            "text/plain": "array([[0., 0., 0.],\n       [0., 0., 0.]])"
          },
          "metadata": {}
        }
      ],
      "execution_count": 5
    },
    {
      "id": "e4d03816-9782-4121-b98f-9f5a186ff228",
      "cell_type": "code",
      "source": "print(arr)",
      "metadata": {
        "trusted": true
      },
      "outputs": [
        {
          "name": "stdout",
          "output_type": "stream",
          "text": "[[0. 0. 0.]\n [0. 0. 0.]]\n"
        }
      ],
      "execution_count": 6
    },
    {
      "id": "a2486ed4-788c-4962-96ba-7c43e5299e44",
      "cell_type": "code",
      "source": "arr1=np.ones((3,2))\narr1",
      "metadata": {
        "trusted": true
      },
      "outputs": [
        {
          "execution_count": 7,
          "output_type": "execute_result",
          "data": {
            "text/plain": "array([[1., 1.],\n       [1., 1.],\n       [1., 1.]])"
          },
          "metadata": {}
        }
      ],
      "execution_count": 7
    },
    {
      "id": "f6af8903-87cf-4f7a-b9d6-4859cf3726d0",
      "cell_type": "code",
      "source": "arr=np.arange(0,10,2)\narr",
      "metadata": {
        "trusted": true
      },
      "outputs": [
        {
          "execution_count": 8,
          "output_type": "execute_result",
          "data": {
            "text/plain": "array([0, 2, 4, 6, 8])"
          },
          "metadata": {}
        }
      ],
      "execution_count": 8
    },
    {
      "id": "6b086735-145a-4d3e-b681-61b8ff54c4f3",
      "cell_type": "code",
      "source": "a=np.linspace(0,1,100)\na",
      "metadata": {
        "trusted": true
      },
      "outputs": [
        {
          "execution_count": 12,
          "output_type": "execute_result",
          "data": {
            "text/plain": "array([0.        , 0.01010101, 0.02020202, 0.03030303, 0.04040404,\n       0.05050505, 0.06060606, 0.07070707, 0.08080808, 0.09090909,\n       0.1010101 , 0.11111111, 0.12121212, 0.13131313, 0.14141414,\n       0.15151515, 0.16161616, 0.17171717, 0.18181818, 0.19191919,\n       0.2020202 , 0.21212121, 0.22222222, 0.23232323, 0.24242424,\n       0.25252525, 0.26262626, 0.27272727, 0.28282828, 0.29292929,\n       0.3030303 , 0.31313131, 0.32323232, 0.33333333, 0.34343434,\n       0.35353535, 0.36363636, 0.37373737, 0.38383838, 0.39393939,\n       0.4040404 , 0.41414141, 0.42424242, 0.43434343, 0.44444444,\n       0.45454545, 0.46464646, 0.47474747, 0.48484848, 0.49494949,\n       0.50505051, 0.51515152, 0.52525253, 0.53535354, 0.54545455,\n       0.55555556, 0.56565657, 0.57575758, 0.58585859, 0.5959596 ,\n       0.60606061, 0.61616162, 0.62626263, 0.63636364, 0.64646465,\n       0.65656566, 0.66666667, 0.67676768, 0.68686869, 0.6969697 ,\n       0.70707071, 0.71717172, 0.72727273, 0.73737374, 0.74747475,\n       0.75757576, 0.76767677, 0.77777778, 0.78787879, 0.7979798 ,\n       0.80808081, 0.81818182, 0.82828283, 0.83838384, 0.84848485,\n       0.85858586, 0.86868687, 0.87878788, 0.88888889, 0.8989899 ,\n       0.90909091, 0.91919192, 0.92929293, 0.93939394, 0.94949495,\n       0.95959596, 0.96969697, 0.97979798, 0.98989899, 1.        ])"
          },
          "metadata": {}
        }
      ],
      "execution_count": 12
    },
    {
      "id": "a6066a89-195a-4a3a-b602-ede80da684c9",
      "cell_type": "code",
      "source": "import numpy as np\narr=np.zeros((10,3))\narr",
      "metadata": {
        "trusted": true
      },
      "outputs": [
        {
          "execution_count": 13,
          "output_type": "execute_result",
          "data": {
            "text/plain": "array([[0., 0., 0.],\n       [0., 0., 0.],\n       [0., 0., 0.],\n       [0., 0., 0.],\n       [0., 0., 0.],\n       [0., 0., 0.],\n       [0., 0., 0.],\n       [0., 0., 0.],\n       [0., 0., 0.],\n       [0., 0., 0.]])"
          },
          "metadata": {}
        }
      ],
      "execution_count": 13
    },
    {
      "id": "67c94835-1841-47fe-9ebb-744aa3c8be4e",
      "cell_type": "code",
      "source": "",
      "metadata": {
        "trusted": true
      },
      "outputs": [],
      "execution_count": null
    }
  ]
}