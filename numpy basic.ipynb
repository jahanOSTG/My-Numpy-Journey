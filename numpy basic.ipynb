{
  "metadata": {
    "kernelspec": {
      "name": "python",
      "display_name": "Python (Pyodide)",
      "language": "python"
    },
    "language_info": {
      "codemirror_mode": {
        "name": "python",
        "version": 3
      },
      "file_extension": ".py",
      "mimetype": "text/x-python",
      "name": "python",
      "nbconvert_exporter": "python",
      "pygments_lexer": "ipython3",
      "version": "3.8"
    }
  },
  "nbformat_minor": 5,
  "nbformat": 4,
  "cells": [
    {
      "id": "a67a95ec-cb99-4712-862c-bb92b8e610e5",
      "cell_type": "markdown",
      "source": "# NumPY Basic",
      "metadata": {}
    },
    {
      "id": "9d747395-f276-46df-8b57-78584eb2186d",
      "cell_type": "code",
      "source": "import numpy as np\narr=np.array([2,5,1,7])\nprint(arr)",
      "metadata": {
        "trusted": true
      },
      "outputs": [
        {
          "name": "stdout",
          "output_type": "stream",
          "text": "[2 5 1 7]\n"
        }
      ],
      "execution_count": 1
    },
    {
      "id": "b30f52b6-cbfb-485f-a8d4-36d13ac7352c",
      "cell_type": "code",
      "source": "print(type(arr))",
      "metadata": {
        "trusted": true
      },
      "outputs": [
        {
          "name": "stdout",
          "output_type": "stream",
          "text": "<class 'numpy.ndarray'>\n"
        }
      ],
      "execution_count": 2
    },
    {
      "id": "9c45d2e1-a392-4b46-9884-c1ba9195ef7d",
      "cell_type": "code",
      "source": "",
      "metadata": {
        "trusted": true
      },
      "outputs": [],
      "execution_count": null
    }
  ]
}