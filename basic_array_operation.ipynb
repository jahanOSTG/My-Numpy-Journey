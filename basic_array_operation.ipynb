{
  "metadata": {
    "kernelspec": {
      "name": "python",
      "display_name": "Python (Pyodide)",
      "language": "python"
    },
    "language_info": {
      "codemirror_mode": {
        "name": "python",
        "version": 3
      },
      "file_extension": ".py",
      "mimetype": "text/x-python",
      "name": "python",
      "nbconvert_exporter": "python",
      "pygments_lexer": "ipython3",
      "version": "3.8"
    }
  },
  "nbformat_minor": 5,
  "nbformat": 4,
  "cells": [
    {
      "id": "20227fc4-5e4f-4412-9eb7-94ab7930726f",
      "cell_type": "markdown",
      "source": "### The Difference Between Copy and View\n- The main difference between a copy and a view of an array is that the copy is a new array, and the view is just a view of the original array.",
      "metadata": {}
    },
    {
      "id": "22514c26-7726-4078-b517-5582867d5bed",
      "cell_type": "code",
      "source": "import numpy as np\narr=np.array([3,5,67,2])\nx=arr.copy()\narr[0]=123\nprint(arr)\nprint(x)",
      "metadata": {
        "trusted": true
      },
      "outputs": [
        {
          "name": "stdout",
          "output_type": "stream",
          "text": "[123   5  67   2]\n[ 3  5 67  2]\n"
        }
      ],
      "execution_count": 2
    },
    {
      "id": "6573b48f-a73d-4e4c-ac45-277f446a27c9",
      "cell_type": "code",
      "source": "import numpy as np\narr=np.array([3,5,67,2])\nx=arr.view()\narr[0]=123\nprint(arr)\nprint(x)",
      "metadata": {
        "trusted": true
      },
      "outputs": [
        {
          "name": "stdout",
          "output_type": "stream",
          "text": "[123   5  67   2]\n[123   5  67   2]\n"
        }
      ],
      "execution_count": 3
    },
    {
      "id": "50f8b1d9-96e1-49cc-97a1-9fc928c38d40",
      "cell_type": "code",
      "source": "import numpy as np\narr=np.array([3,5,67,2])\nx=arr.view()\ny=arr.copy()\narr[0]=123\nprint(arr)\nprint(x)\nprint(y)\nprint(x.base)\nprint(y.base)",
      "metadata": {
        "trusted": true
      },
      "outputs": [
        {
          "name": "stdout",
          "output_type": "stream",
          "text": "[123   5  67   2]\n[123   5  67   2]\n[ 3  5 67  2]\n[123   5  67   2]\nNone\n"
        }
      ],
      "execution_count": 4
    },
    {
      "id": "7de76e26-b954-4b93-a912-123d4349ab39",
      "cell_type": "markdown",
      "source": "### shape of an array",
      "metadata": {}
    },
    {
      "id": "e67e16d8-ae40-47d2-b81d-787787ad26db",
      "cell_type": "code",
      "source": "import numpy as np\narr=np.array([[4,5,3,3],[4,2,1,6]])\nprint(arr)\nprint(arr.shape)",
      "metadata": {
        "trusted": true
      },
      "outputs": [
        {
          "name": "stdout",
          "output_type": "stream",
          "text": "[[4 5 3 3]\n [4 2 1 6]]\n(2, 4)\n"
        }
      ],
      "execution_count": 7
    },
    {
      "id": "67a650b1-728d-4ef9-8b43-f0280af2072a",
      "cell_type": "code",
      "source": "import numpy as np\nx=np.array([4,5,6,2],ndmin=5)\nprint(x)\nprint(x.shape)           \n           ",
      "metadata": {
        "trusted": true
      },
      "outputs": [
        {
          "name": "stdout",
          "output_type": "stream",
          "text": "[[[[[4 5 6 2]]]]]\n(1, 1, 1, 1, 4)\n"
        }
      ],
      "execution_count": 9
    },
    {
      "id": "ad273186-fa90-4fac-a4e7-70f85530645f",
      "cell_type": "markdown",
      "source": "## Array Reshaping",
      "metadata": {}
    },
    {
      "id": "5eec14bd-5af4-4835-8313-d3a08d1b116b",
      "cell_type": "code",
      "source": "import numpy as np\nx=np.array([4,5,6,2,6,2,8,9,3,4,4,8])\nprint(x.reshape(4,3))",
      "metadata": {
        "trusted": true
      },
      "outputs": [
        {
          "name": "stdout",
          "output_type": "stream",
          "text": "[[4 5 6]\n [2 6 2]\n [8 9 3]\n [4 4 8]]\n"
        }
      ],
      "execution_count": 13
    },
    {
      "id": "90b2ed2e-5a55-44df-bdc1-63bd3fff3019",
      "cell_type": "code",
      "source": "import numpy as np\nx=np.array([4,5,6,2,6,2,8,9,3,4,4,8])\nprint(x.reshape(2,3,2))",
      "metadata": {
        "trusted": true
      },
      "outputs": [
        {
          "name": "stdout",
          "output_type": "stream",
          "text": "[[[4 5]\n  [6 2]\n  [6 2]]\n\n [[8 9]\n  [3 4]\n  [4 8]]]\n"
        }
      ],
      "execution_count": 15
    },
    {
      "id": "bb8001c1-7556-4542-87b6-15b1350cf4be",
      "cell_type": "code",
      "source": "x=np.array([4,5,6,2,6,2,8,9,3])\nprint(x.reshape(3,3))",
      "metadata": {
        "trusted": true
      },
      "outputs": [
        {
          "name": "stdout",
          "output_type": "stream",
          "text": "[[4 5 6]\n [2 6 2]\n [8 9 3]]\n"
        }
      ],
      "execution_count": 17
    },
    {
      "id": "c9e73255-df71-4edc-9db0-b95324335b84",
      "cell_type": "code",
      "source": "print(x.reshape(3,3).base)",
      "metadata": {
        "trusted": true
      },
      "outputs": [
        {
          "name": "stdout",
          "output_type": "stream",
          "text": "[4 5 6 2 6 2 8 9 3]\n"
        }
      ],
      "execution_count": 18
    },
    {
      "id": "7a66d3e5-2fa7-447d-b0eb-47807b2bdd88",
      "cell_type": "markdown",
      "source": "### unknown dimention",
      "metadata": {}
    },
    {
      "id": "25d166d1-24a8-45c2-9b06-786f42bb4713",
      "cell_type": "code",
      "source": "print(x.reshape(3,3,-1))",
      "metadata": {
        "trusted": true
      },
      "outputs": [
        {
          "name": "stdout",
          "output_type": "stream",
          "text": "[[[4]\n  [5]\n  [6]]\n\n [[2]\n  [6]\n  [2]]\n\n [[8]\n  [9]\n  [3]]]\n"
        }
      ],
      "execution_count": 19
    },
    {
      "id": "d65df43a-df95-4532-96b9-2d0e931de6ba",
      "cell_type": "code",
      "source": "print(x.reshape(3,3),-2)",
      "metadata": {
        "trusted": true
      },
      "outputs": [
        {
          "name": "stdout",
          "output_type": "stream",
          "text": "[[4 5 6]\n [2 6 2]\n [8 9 3]] -2\n"
        }
      ],
      "execution_count": 20
    },
    {
      "id": "e5afcf5d-db7b-407c-abed-df1a4077a629",
      "cell_type": "markdown",
      "source": "### Flattening the arrays\n- Flattening array means converting a multidimensional array into a 1D array.",
      "metadata": {}
    },
    {
      "id": "c9d1887e-1ccd-4060-a310-4d1d1fbe58e9",
      "cell_type": "code",
      "source": "import numpy as np\narr=np.array([[4,5,3,3],[4,2,1,6]])\nprint(arr)\nprint(arr.reshape(-1))",
      "metadata": {
        "trusted": true
      },
      "outputs": [
        {
          "name": "stdout",
          "output_type": "stream",
          "text": "[[4 5 3 3]\n [4 2 1 6]]\n[4 5 3 3 4 2 1 6]\n"
        }
      ],
      "execution_count": 21
    },
    {
      "id": "9b2882a2-48e4-4e2f-8d24-7b9c689f170d",
      "cell_type": "code",
      "source": "",
      "metadata": {
        "trusted": true
      },
      "outputs": [],
      "execution_count": null
    }
  ]
}