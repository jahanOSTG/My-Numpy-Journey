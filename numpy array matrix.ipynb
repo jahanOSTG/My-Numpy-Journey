{
 "cells": [
  {
   "cell_type": "markdown",
   "id": "28ba9c7a-dc62-4a1e-887f-cac31ae6594c",
   "metadata": {},
   "source": [
    "# NumPy Arrays\n"
   ]
  },
  {
   "cell_type": "code",
   "execution_count": 5,
   "id": "713c614e-9f01-486a-aca0-c013f00d1892",
   "metadata": {},
   "outputs": [],
   "source": [
    "import numpy as np"
   ]
  },
  {
   "cell_type": "code",
   "execution_count": 7,
   "id": "fe071b46-7555-4dfc-9986-b024b6917e30",
   "metadata": {},
   "outputs": [
    {
     "data": {
      "text/plain": [
       "'1.26.4'"
      ]
     },
     "execution_count": 7,
     "metadata": {},
     "output_type": "execute_result"
    }
   ],
   "source": [
    "np.__version__"
   ]
  },
  {
   "cell_type": "code",
   "execution_count": 9,
   "id": "66ac3612-8ee7-45ca-82d0-3d9f6aa84751",
   "metadata": {},
   "outputs": [
    {
     "data": {
      "text/plain": [
       "[-1, 0, 1]"
      ]
     },
     "execution_count": 9,
     "metadata": {},
     "output_type": "execute_result"
    }
   ],
   "source": [
    "my_list=[-1,0,1]\n",
    "my_list"
   ]
  },
  {
   "cell_type": "code",
   "execution_count": 11,
   "id": "e8187cb1-32df-420b-a56e-54a8bcd4dec3",
   "metadata": {},
   "outputs": [
    {
     "data": {
      "text/plain": [
       "array([[-1,  0,  1]])"
      ]
     },
     "execution_count": 11,
     "metadata": {},
     "output_type": "execute_result"
    }
   ],
   "source": [
    "my_array=np.array([my_list])\n",
    "my_array"
   ]
  },
  {
   "cell_type": "code",
   "execution_count": 17,
   "id": "a06e28d1-8e86-4ad6-a501-0ea5e22e35b1",
   "metadata": {},
   "outputs": [
    {
     "data": {
      "text/plain": [
       "[[1, 2, 3], [4, 5, 6], [7, 8, 9], [4, 5, 9]]"
      ]
     },
     "execution_count": 17,
     "metadata": {},
     "output_type": "execute_result"
    }
   ],
   "source": [
    "my_matrix=[[1,2,3],[4,5,6],[7,8,9],[4,5,9]]\n",
    "my_matrix"
   ]
  },
  {
   "cell_type": "code",
   "execution_count": 19,
   "id": "7fb06483-2d9b-4afa-b06b-93660a0f4e4a",
   "metadata": {},
   "outputs": [
    {
     "data": {
      "text/plain": [
       "array([[1, 2, 3],\n",
       "       [4, 5, 6],\n",
       "       [7, 8, 9],\n",
       "       [4, 5, 9]])"
      ]
     },
     "execution_count": 19,
     "metadata": {},
     "output_type": "execute_result"
    }
   ],
   "source": [
    "matrix_one=np. array(my_matrix)\n",
    "matrix_one"
   ]
  },
  {
   "cell_type": "code",
   "execution_count": 35,
   "id": "e15427a4-bcab-4f15-b3d8-359df6262220",
   "metadata": {},
   "outputs": [
    {
     "data": {
      "text/plain": [
       "(array([-1,  0,  1]), numpy.ndarray)"
      ]
     },
     "execution_count": 35,
     "metadata": {},
     "output_type": "execute_result"
    }
   ],
   "source": [
    "#using tuple\n",
    "my_tuple=(-1,0,1)\n",
    "my_array=np.array(my_tuple)\n",
    "my_array,type(my_array)"
   ]
  },
  {
   "cell_type": "code",
   "execution_count": 37,
   "id": "95df14b5-d563-4df4-8a5d-2fe07cffe9b9",
   "metadata": {},
   "outputs": [
    {
     "data": {
      "text/plain": [
       "array(['3', '5', '6', 'a'], dtype='<U11')"
      ]
     },
     "execution_count": 37,
     "metadata": {},
     "output_type": "execute_result"
    }
   ],
   "source": [
    "myarray=np.array([3,5,6,\"a\"])\n",
    "myarray"
   ]
  },
  {
   "cell_type": "code",
   "execution_count": 39,
   "id": "62bba469-9ec4-49bd-8354-9d32f9add8ce",
   "metadata": {},
   "outputs": [
    {
     "data": {
      "text/plain": [
       "[3, 'a', 5, 6]"
      ]
     },
     "execution_count": 39,
     "metadata": {},
     "output_type": "execute_result"
    }
   ],
   "source": [
    "mylist=[3,\"a\",5,6]\n",
    "mylist"
   ]
  }
 ],
 "metadata": {
  "kernelspec": {
   "display_name": "Python [conda env:anavonda]",
   "language": "python",
   "name": "conda-env-anavonda-py"
  },
  "language_info": {
   "codemirror_mode": {
    "name": "ipython",
    "version": 3
   },
   "file_extension": ".py",
   "mimetype": "text/x-python",
   "name": "python",
   "nbconvert_exporter": "python",
   "pygments_lexer": "ipython3",
   "version": "3.12.7"
  }
 },
 "nbformat": 4,
 "nbformat_minor": 5
}
