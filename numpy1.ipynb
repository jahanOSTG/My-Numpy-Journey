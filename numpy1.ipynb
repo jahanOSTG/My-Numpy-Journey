{
  "metadata": {
    "kernelspec": {
      "name": "python",
      "display_name": "Python (Pyodide)",
      "language": "python"
    },
    "language_info": {
      "codemirror_mode": {
        "name": "python",
        "version": 3
      },
      "file_extension": ".py",
      "mimetype": "text/x-python",
      "name": "python",
      "nbconvert_exporter": "python",
      "pygments_lexer": "ipython3",
      "version": "3.8"
    }
  },
  "nbformat_minor": 5,
  "nbformat": 4,
  "cells": [
    {
      "id": "d707e9da-cc1c-42b3-b273-48e0d82c8b79",
      "cell_type": "code",
      "source": "import numpy as np",
      "metadata": {
        "trusted": true
      },
      "outputs": [],
      "execution_count": 1
    },
    {
      "id": "d534311d-c969-40a2-98d2-b1ac4acb837f",
      "cell_type": "code",
      "source": "bbq_boxes=np.full((2,3),'bbq')\nprint(bbq_boxes)",
      "metadata": {
        "trusted": true
      },
      "outputs": [
        {
          "name": "stdout",
          "output_type": "stream",
          "text": "[['bbq' 'bbq' 'bbq']\n ['bbq' 'bbq' 'bbq']]\n"
        }
      ],
      "execution_count": 2
    },
    {
      "id": "5335f1ba-353b-4198-af66-d8475b850dba",
      "cell_type": "code",
      "source": "kids_order=np.random.randint(1,8,(2,3))\nprint(kids_order)\n                             ",
      "metadata": {
        "trusted": true
      },
      "outputs": [
        {
          "name": "stdout",
          "output_type": "stream",
          "text": "[[2 7 1]\n [2 2 5]]\n"
        }
      ],
      "execution_count": 6
    },
    {
      "id": "4584721d-3f3c-4aa1-a192-108f576417d1",
      "cell_type": "code",
      "source": "surprise_toppings=np.random.rand(2,3)\nprint(surprise_toppings)",
      "metadata": {
        "trusted": true
      },
      "outputs": [
        {
          "name": "stdout",
          "output_type": "stream",
          "text": "[[0.29166608 0.10326745 0.51988541]\n [0.14317285 0.55886959 0.58780069]]\n"
        }
      ],
      "execution_count": 10
    },
    {
      "id": "07eece1a-4f86-4c21-acf6-b937e5d05620",
      "cell_type": "code",
      "source": "# create identity matrix\nsingnature_pizzas= np.identity(4)\nprint(singnature_pizzas)",
      "metadata": {
        "trusted": true
      },
      "outputs": [
        {
          "name": "stdout",
          "output_type": "stream",
          "text": "[[1. 0. 0. 0.]\n [0. 1. 0. 0.]\n [0. 0. 1. 0.]\n [0. 0. 0. 1.]]\n"
        }
      ],
      "execution_count": 12
    },
    {
      "id": "2cf76077-8c59-4ed0-9a68-dd60e4953683",
      "cell_type": "code",
      "source": "delivery_times=np.arange(0,70,15) #interval\nprint(delivery_times)",
      "metadata": {
        "trusted": true
      },
      "outputs": [
        {
          "name": "stdout",
          "output_type": "stream",
          "text": "[ 0 15 30 45 60]\n"
        }
      ],
      "execution_count": 14
    },
    {
      "id": "0a57a8e8-610a-46e0-996b-5dd2d676ad41",
      "cell_type": "code",
      "source": "cooking_shifts=np.linspace(0,70,5)  # devide \nprint(cooking_shifts)",
      "metadata": {
        "trusted": true
      },
      "outputs": [
        {
          "name": "stdout",
          "output_type": "stream",
          "text": "[ 0.  17.5 35.  52.5 70. ]\n"
        }
      ],
      "execution_count": 15
    },
    {
      "id": "30acf9cf-b1e6-4941-b856-20d2c884fac2",
      "cell_type": "code",
      "source": "orders=np.array(['cheese','veg','spicy','bbq'])\nprint(orders[2])",
      "metadata": {
        "trusted": true
      },
      "outputs": [
        {
          "name": "stdout",
          "output_type": "stream",
          "text": "spicy\n"
        }
      ],
      "execution_count": 17
    },
    {
      "id": "3e786c72-d0e7-46f4-b38f-5f912b7ebecf",
      "cell_type": "code",
      "source": "print(orders[1:3])",
      "metadata": {
        "trusted": true
      },
      "outputs": [
        {
          "name": "stdout",
          "output_type": "stream",
          "text": "['veg' 'spicy']\n"
        }
      ],
      "execution_count": 19
    },
    {
      "id": "2ff2575b-ef5b-4db8-8b30-fe8ea4f9370e",
      "cell_type": "code",
      "source": "orders=np.array([\n    ['cheese','veg'],\n    ['spicy','bbq']\n])",
      "metadata": {
        "trusted": true
      },
      "outputs": [],
      "execution_count": 20
    },
    {
      "id": "7ea119ee-c586-4133-894a-166f3fe6e5d4",
      "cell_type": "code",
      "source": "print(orders[0,1])",
      "metadata": {
        "trusted": true
      },
      "outputs": [
        {
          "name": "stdout",
          "output_type": "stream",
          "text": "veg\n"
        }
      ],
      "execution_count": 21
    },
    {
      "id": "1844403c-57bd-4445-89dd-9428735c7433",
      "cell_type": "code",
      "source": "print(orders[1,0])",
      "metadata": {
        "trusted": true
      },
      "outputs": [
        {
          "name": "stdout",
          "output_type": "stream",
          "text": "spicy\n"
        }
      ],
      "execution_count": 22
    },
    {
      "id": "d063e0d5-d6fa-4674-a986-fd944fc75e20",
      "cell_type": "code",
      "source": "print(orders[:,0])",
      "metadata": {
        "trusted": true
      },
      "outputs": [
        {
          "name": "stdout",
          "output_type": "stream",
          "text": "['cheese' 'spicy']\n"
        }
      ],
      "execution_count": 24
    },
    {
      "id": "ba58f03d-e94f-4a7a-a179-7041e56573d0",
      "cell_type": "code",
      "source": "print(orders[:,1])",
      "metadata": {
        "trusted": true
      },
      "outputs": [
        {
          "name": "stdout",
          "output_type": "stream",
          "text": "['veg' 'bbq']\n"
        }
      ],
      "execution_count": 25
    },
    {
      "id": "bbd6ef34-70c3-4eee-af4c-3602e6ac7474",
      "cell_type": "code",
      "source": "print(orders[0,:])",
      "metadata": {
        "trusted": true
      },
      "outputs": [
        {
          "name": "stdout",
          "output_type": "stream",
          "text": "['cheese' 'veg']\n"
        }
      ],
      "execution_count": 26
    },
    {
      "id": "4d721a78-ea64-4b3c-8230-94c95c557e5f",
      "cell_type": "code",
      "source": "orders=np.array([\n    ['cheese','veg','veg'],\n    ['spicy','bbq','spicy]\n])",
      "metadata": {
        "trusted": true
      },
      "outputs": [],
      "execution_count": null
    }
  ]
}