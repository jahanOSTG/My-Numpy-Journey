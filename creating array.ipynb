{
  "metadata": {
    "kernelspec": {
      "name": "python",
      "display_name": "Python (Pyodide)",
      "language": "python"
    },
    "language_info": {
      "codemirror_mode": {
        "name": "python",
        "version": 3
      },
      "file_extension": ".py",
      "mimetype": "text/x-python",
      "name": "python",
      "nbconvert_exporter": "python",
      "pygments_lexer": "ipython3",
      "version": "3.8"
    }
  },
  "nbformat_minor": 5,
  "nbformat": 4,
  "cells": [
    {
      "id": "44b14e98-81ad-4213-a7bc-d3be1ab21e03",
      "cell_type": "markdown",
      "source": "- Numpy is a python library which is working with array\n- Numpy standard for Numerical Python",
      "metadata": {}
    },
    {
      "id": "e2e57cd4-e201-4f45-9985-f47b4bccd605",
      "cell_type": "code",
      "source": "import numpy as np\narr= np.array([5,3,7,5])\nprint(arr)",
      "metadata": {
        "trusted": true
      },
      "outputs": [
        {
          "name": "stdout",
          "output_type": "stream",
          "text": "[5 3 7 5]\n"
        }
      ],
      "execution_count": 3
    },
    {
      "id": "a3664cc5-3705-4b79-ab20-78b4365c17d7",
      "cell_type": "markdown",
      "source": "- using tuple to cre ate a array\n",
      "metadata": {}
    },
    {
      "id": "2457b88b-3bb4-400d-ad29-c4789c15fc4b",
      "cell_type": "code",
      "source": "import numpy as np\narr= np.array((5,3,7,5))\nprint(arr)",
      "metadata": {
        "trusted": true
      },
      "outputs": [
        {
          "name": "stdout",
          "output_type": "stream",
          "text": "[5 3 7 5]\n"
        }
      ],
      "execution_count": 4
    },
    {
      "id": "6006fa10-5d75-409f-91f5-e8997da187b7",
      "cell_type": "markdown",
      "source": "### 0D array",
      "metadata": {}
    },
    {
      "id": "08165340-6e24-4088-bcde-cc8a72ddc372",
      "cell_type": "code",
      "source": "import numpy as np\narr0=np.array(33)\nprint(arr0)",
      "metadata": {
        "trusted": true
      },
      "outputs": [
        {
          "name": "stdout",
          "output_type": "stream",
          "text": "33\n"
        }
      ],
      "execution_count": 6
    },
    {
      "id": "b6dbe6d2-b264-4403-aa1c-3d602c5068d0",
      "cell_type": "markdown",
      "source": "### 1D array",
      "metadata": {}
    },
    {
      "id": "9403fd31-9497-4574-9182-c4456e7540fb",
      "cell_type": "code",
      "source": "import numpy as np\narr1=np.array([4,5,7])\nprint(arr1)",
      "metadata": {
        "trusted": true
      },
      "outputs": [
        {
          "name": "stdout",
          "output_type": "stream",
          "text": "[4 5 7]\n"
        }
      ],
      "execution_count": 7
    },
    {
      "id": "67c78534-d6e3-4087-80bc-fb6370db7e94",
      "cell_type": "markdown",
      "source": "### 2D Array",
      "metadata": {}
    },
    {
      "id": "dac4d40c-8218-43f3-ac3e-b249db3ec7a8",
      "cell_type": "code",
      "source": "import numpy as np\narr1=np.array([[4,5,7],[34,6,2]])\nprint(arr1)",
      "metadata": {
        "trusted": true
      },
      "outputs": [
        {
          "name": "stdout",
          "output_type": "stream",
          "text": "[[ 4  5  7]\n [34  6  2]]\n"
        }
      ],
      "execution_count": 9
    },
    {
      "id": "1ac9fbae-77f3-4a9b-a04d-9499c5e4b1d6",
      "cell_type": "markdown",
      "source": "### 3D array",
      "metadata": {}
    },
    {
      "id": "933a1dd2-4025-4c9b-9011-c46b4ef8e24a",
      "cell_type": "code",
      "source": "import numpy as np\narr1=np.array([[4,5,7],[34,6,2],[5,6,3]])\nprint(arr1)",
      "metadata": {
        "trusted": true
      },
      "outputs": [
        {
          "name": "stdout",
          "output_type": "stream",
          "text": "[[ 4  5  7]\n [34  6  2]\n [ 5  6  3]]\n"
        }
      ],
      "execution_count": 12
    },
    {
      "id": "2d31d86f-873c-4673-b481-6be36126f18e",
      "cell_type": "code",
      "source": "import numpy as np\narr1=np.array([[[4,5,7],[34,6,2]],[[5,6,3],[5,3,2]]])\nprint(arr1)",
      "metadata": {
        "trusted": true
      },
      "outputs": [
        {
          "name": "stdout",
          "output_type": "stream",
          "text": "[[[ 4  5  7]\n  [34  6  2]]\n\n [[ 5  6  3]\n  [ 5  3  2]]]\n"
        }
      ],
      "execution_count": 13
    },
    {
      "id": "95766328-5363-47ea-ad73-cfd11bc7f70d",
      "cell_type": "markdown",
      "source": "### Check array dimention",
      "metadata": {}
    },
    {
      "id": "66edabdb-5938-4261-bbfd-a0b763f084c6",
      "cell_type": "markdown",
      "source": "- In Numpy Array \"ndim\" attribute is used for indicate the dimention of array",
      "metadata": {}
    },
    {
      "id": "058a74ed-ccef-438f-aee5-169a750a256f",
      "cell_type": "code",
      "source": "import numpy as np\n\na=np.array([[[4,5,7],[34,6,2]],[[5,6,3],[5,3,2]]])\nb=np.array([[4,5,7],[34,6,2],[5,6,3]])\nc=np.array([[4,5,7],[34,6,2]])\nd=np.array(34)\na.",
      "metadata": {
        "trusted": true
      },
      "outputs": [],
      "execution_count": null
    }
  ]
}