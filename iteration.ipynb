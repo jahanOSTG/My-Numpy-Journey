{
  "metadata": {
    "kernelspec": {
      "name": "python",
      "display_name": "Python (Pyodide)",
      "language": "python"
    },
    "language_info": {
      "codemirror_mode": {
        "name": "python",
        "version": 3
      },
      "file_extension": ".py",
      "mimetype": "text/x-python",
      "name": "python",
      "nbconvert_exporter": "python",
      "pygments_lexer": "ipython3",
      "version": "3.8"
    }
  },
  "nbformat_minor": 5,
  "nbformat": 4,
  "cells": [
    {
      "id": "bfbaf639-8256-429f-8a19-b69184c1db91",
      "cell_type": "markdown",
      "source": "### Iterating Arrays\n",
      "metadata": {}
    },
    {
      "id": "3cf08014-213b-413d-a605-50377d0812af",
      "cell_type": "code",
      "source": "import numpy as np\narr=np.array([4,3,5,6,2,5,4])\nfor x in arr:\n    print(x)",
      "metadata": {
        "trusted": true
      },
      "outputs": [
        {
          "name": "stdout",
          "output_type": "stream",
          "text": "4\n3\n5\n6\n2\n5\n4\n"
        }
      ],
      "execution_count": 2
    },
    {
      "id": "5e44c331-0371-4b4d-9271-3c537b0978f5",
      "cell_type": "code",
      "source": "import numpy as np\narr=np.array([[4,3,5],[2,5,4]])\nfor x in arr:\n    print(x)",
      "metadata": {
        "trusted": true
      },
      "outputs": [
        {
          "name": "stdout",
          "output_type": "stream",
          "text": "[4 3 5]\n[2 5 4]\n"
        }
      ],
      "execution_count": 3
    },
    {
      "id": "c4048553-e943-4ec0-9b4a-de3bf97c0421",
      "cell_type": "code",
      "source": "import numpy as np\narr=np.array([[4,3,5],[2,5,4]])\nfor x in arr:\n    for y in x:\n        print(y)",
      "metadata": {
        "trusted": true
      },
      "outputs": [
        {
          "name": "stdout",
          "output_type": "stream",
          "text": "4\n3\n5\n2\n5\n4\n"
        }
      ],
      "execution_count": 4
    },
    {
      "id": "801fd827-6302-4a1a-a76d-c24003377094",
      "cell_type": "markdown",
      "source": "### Joining Numpy Array",
      "metadata": {}
    },
    {
      "id": "8f4c4af6-4ef1-48af-8ede-a58ddff5ae9c",
      "cell_type": "code",
      "source": "import numpy as np\narr1=np.array([4,2,6,4,3,1,9])\narr2=np.array([4,2,5,2,6,8,9])\narr3=np.concatenate((arr1,arr2))\nprint(arr3)",
      "metadata": {
        "trusted": true
      },
      "outputs": [
        {
          "name": "stdout",
          "output_type": "stream",
          "text": "[4 2 6 4 3 1 9 4 2 5 2 6 8 9]\n"
        }
      ],
      "execution_count": 7
    },
    {
      "id": "cbc79404-31ec-4e60-ba3a-a638fa744ce8",
      "cell_type": "code",
      "source": "import numpy as np\n\narr = np.array([[1, 2], [3, 4], [5, 6], [7, 8], [9, 10], [11, 12]])\n\nnewarr = np.array_split(arr, 3)\n\nprint(newarr)",
      "metadata": {
        "trusted": true
      },
      "outputs": [
        {
          "name": "stdout",
          "output_type": "stream",
          "text": "[array([[1, 2],\n       [3, 4]]), array([[5, 6],\n       [7, 8]]), array([[ 9, 10],\n       [11, 12]])]\n"
        }
      ],
      "execution_count": 8
    },
    {
      "id": "83f59a7a-b184-4a4e-bde3-88e3b1ff1218",
      "cell_type": "markdown",
      "source": "### Array sort",
      "metadata": {}
    },
    {
      "id": "115d4a49-4d97-4d96-b856-be399308bced",
      "cell_type": "code",
      "source": "import numpy as np\n\narr = np.array([[1, 2], [3, 4], [5, 6], [7, 8], [9, 10], [11, 12]])\n\nnewarr = np.sort(arr)\n\nprint(newarr)",
      "metadata": {
        "trusted": true
      },
      "outputs": [
        {
          "name": "stdout",
          "output_type": "stream",
          "text": "[[ 1  2]\n [ 3  4]\n [ 5  6]\n [ 7  8]\n [ 9 10]\n [11 12]]\n"
        }
      ],
      "execution_count": 10
    },
    {
      "id": "289fcf44-7481-4b69-ba96-1206b14f645f",
      "cell_type": "code",
      "source": "import numpy as np\narr1=np.array([4,2,6,4,3,1,9])\narr2=np.array([4,2,5,2,6,8,9])\narr3=np.sort(arr1)\narr4=np.sort(arr2)\nprint(arr3)\nprint(arr4)",
      "metadata": {
        "trusted": true
      },
      "outputs": [
        {
          "name": "stdout",
          "output_type": "stream",
          "text": "[1 2 3 4 4 6 9]\n[2 2 4 5 6 8 9]\n"
        }
      ],
      "execution_count": 11
    },
    {
      "id": "0cf80cb8-5109-4897-a511-38434bca0e0e",
      "cell_type": "markdown",
      "source": "### Search Array",
      "metadata": {}
    },
    {
      "id": "006c5cc3-26e8-427f-a846-7d3511b7046e",
      "cell_type": "code",
      "source": "import numpy as np\narr1=np.array([4,2,6,4,3,1,9])\narr2=np.array([4,2,5,2,6,8,9])\nx=np.where(arr1%2==0)\nprint(x)",
      "metadata": {
        "trusted": true
      },
      "outputs": [
        {
          "name": "stdout",
          "output_type": "stream",
          "text": "(array([0, 1, 2, 3]),)\n"
        }
      ],
      "execution_count": 12
    },
    {
      "id": "279de4a1-64b9-4a2e-8376-f27cda28af29",
      "cell_type": "code",
      "source": "print(arr1[x])",
      "metadata": {
        "trusted": true
      },
      "outputs": [
        {
          "name": "stdout",
          "output_type": "stream",
          "text": "[4 2 6 4]\n"
        }
      ],
      "execution_count": 13
    },
    {
      "id": "7112dc76-07dc-474e-adc1-752c67a05161",
      "cell_type": "code",
      "source": "y=np.where(arr2==2)\nprint(y)",
      "metadata": {
        "trusted": true
      },
      "outputs": [
        {
          "name": "stdout",
          "output_type": "stream",
          "text": "(array([1, 3]),)\n"
        }
      ],
      "execution_count": 14
    },
    {
      "id": "91ff2c2a-d5d5-4450-a8b9-6440e5e880bc",
      "cell_type": "code",
      "source": "print(arr2[y])",
      "metadata": {
        "trusted": true
      },
      "outputs": [
        {
          "name": "stdout",
          "output_type": "stream",
          "text": "[2 2]\n"
        }
      ],
      "execution_count": 15
    },
    {
      "id": "aa4a1731-f411-486f-add3-9bc438a4dbb9",
      "cell_type": "code",
      "source": "import numpy as np\narr1=np.array([4,6,7,2,5,1,9,0])\nx=np.sort(arr1)\nprint(x)",
      "metadata": {
        "trusted": true
      },
      "outputs": [
        {
          "name": "stdout",
          "output_type": "stream",
          "text": "[0 1 2 4 5 6 7 9]\n"
        }
      ],
      "execution_count": 20
    },
    {
      "id": "e490e07d-f744-4bdd-a1e4-dd5c241302fe",
      "cell_type": "code",
      "source": "y=np.searchsorted(x,5)\nprint(y)",
      "metadata": {
        "trusted": true
      },
      "outputs": [
        {
          "name": "stdout",
          "output_type": "stream",
          "text": "4\n"
        }
      ],
      "execution_count": 25
    },
    {
      "id": "de606f69-78be-4e0c-8769-b8394c0a63b9",
      "cell_type": "code",
      "source": "y=np.searchsorted(x,5,side='right')\nprint(y)",
      "metadata": {
        "trusted": true
      },
      "outputs": [
        {
          "name": "stdout",
          "output_type": "stream",
          "text": "5\n"
        }
      ],
      "execution_count": 26
    },
    {
      "id": "d968f0fe-8bfe-4d8a-ac17-78279a1bb129",
      "cell_type": "code",
      "source": "",
      "metadata": {
        "trusted": true
      },
      "outputs": [],
      "execution_count": null
    }
  ]
}