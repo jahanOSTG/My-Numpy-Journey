{
  "metadata": {
    "kernelspec": {
      "name": "python",
      "display_name": "Python (Pyodide)",
      "language": "python"
    },
    "language_info": {
      "codemirror_mode": {
        "name": "python",
        "version": 3
      },
      "file_extension": ".py",
      "mimetype": "text/x-python",
      "name": "python",
      "nbconvert_exporter": "python",
      "pygments_lexer": "ipython3",
      "version": "3.8"
    }
  },
  "nbformat_minor": 5,
  "nbformat": 4,
  "cells": [
    {
      "id": "795aa428-7c0f-4cea-8189-8ca42fca19c5",
      "cell_type": "code",
      "source": "import pandas as pd\nshow=pd.read_csv('clean.csv')\nprint(show)",
      "metadata": {
        "trusted": true
      },
      "outputs": [
        {
          "name": "stdout",
          "output_type": "stream",
          "text": "      Name   Age Gender    JoinDate   Salary Department\n0    Alice  25.0      F  2021-01-15  50000.0         HR\n1      Bob   NaN      M  2020-06-01  60000.0         IT\n2      NaN  29.0      M  2019-11-23  55000.0         IT\n3   David   22.0      M              52000.0         HR\n4      Eve  35.0      F  2021-07-12      NaN    Finance\n5    Frank  29.0      M  2018-05-30  58000.0    Finance\n6   George  40.0    NaN  2017-09-10  60000.0         IT\n7    Henry  30.0      M  2021-12-01  65000.0        NaN\n8     Isla  22.0      F  2022-01-20  67000.0         HR\n9     Jack   NaN      M  2022-03-15  68000.0         IT\n10   Alice  25.0      F  2021-01-15  50000.0         HR\n"
        }
      ],
      "execution_count": 1
    },
    {
      "id": "70a6afe4-f6d0-401f-bab8-2eda64880d1e",
      "cell_type": "markdown",
      "source": "### Initial data preview",
      "metadata": {}
    },
    {
      "id": "3e20f335-1ca0-4493-a226-e3127460686a",
      "cell_type": "code",
      "source": "print(show.head())",
      "metadata": {
        "trusted": true
      },
      "outputs": [
        {
          "name": "stdout",
          "output_type": "stream",
          "text": "     Name   Age Gender    JoinDate   Salary Department\n0   Alice  25.0      F  2021-01-15  50000.0         HR\n1     Bob   NaN      M  2020-06-01  60000.0         IT\n2     NaN  29.0      M  2019-11-23  55000.0         IT\n3  David   22.0      M              52000.0         HR\n4     Eve  35.0      F  2021-07-12      NaN    Finance\n"
        }
      ],
      "execution_count": 2
    },
    {
      "id": "8b5d9ba2-9d34-466a-a8a3-d6a2b076446a",
      "cell_type": "code",
      "source": "print(show.info())",
      "metadata": {
        "trusted": true
      },
      "outputs": [
        {
          "name": "stdout",
          "output_type": "stream",
          "text": "<class 'pandas.core.frame.DataFrame'>\nRangeIndex: 11 entries, 0 to 10\nData columns (total 6 columns):\n #   Column      Non-Null Count  Dtype  \n---  ------      --------------  -----  \n 0   Name        10 non-null     object \n 1   Age         9 non-null      float64\n 2   Gender      10 non-null     object \n 3   JoinDate    11 non-null     object \n 4   Salary      10 non-null     float64\n 5   Department  10 non-null     object \ndtypes: float64(2), object(4)\nmemory usage: 424.0+ bytes\nNone\n"
        }
      ],
      "execution_count": 3
    },
    {
      "id": "cde09d49-f6e2-4912-82a1-36f921bde1e4",
      "cell_type": "markdown",
      "source": "### Cleaning empty cell",
      "metadata": {}
    },
    {
      "id": "c5290fe4-b38a-4486-af3f-173b40a398f3",
      "cell_type": "code",
      "source": "print(show.isnull())",
      "metadata": {
        "trusted": true
      },
      "outputs": [
        {
          "name": "stdout",
          "output_type": "stream",
          "text": "     Name    Age  Gender  JoinDate  Salary  Department\n0   False  False   False     False   False       False\n1   False   True   False     False   False       False\n2    True  False   False     False   False       False\n3   False  False   False     False   False       False\n4   False  False   False     False    True       False\n5   False  False   False     False   False       False\n6   False  False    True     False   False       False\n7   False  False   False     False   False        True\n8   False  False   False     False   False       False\n9   False   True   False     False   False       False\n10  False  False   False     False   False       False\n"
        }
      ],
      "execution_count": 4
    },
    {
      "id": "39a79c33-8911-4356-95be-a1ddd045ce39",
      "cell_type": "code",
      "source": "print(show.isnull().sum())",
      "metadata": {
        "trusted": true
      },
      "outputs": [
        {
          "name": "stdout",
          "output_type": "stream",
          "text": "Name          1\nAge           2\nGender        1\nJoinDate      0\nSalary        1\nDepartment    1\ndtype: int64\n"
        }
      ],
      "execution_count": 5
    },
    {
      "id": "8bf7dcb5-94a1-4e5d-8185-710dab56e1c8",
      "cell_type": "code",
      "source": "print(show.dtype())\n",
      "metadata": {
        "trusted": true
      },
      "outputs": [
        {
          "ename": "<class 'AttributeError'>",
          "evalue": "'DataFrame' object has no attribute 'dtype'",
          "traceback": [
            "\u001b[0;31m---------------------------------------------------------------------------\u001b[0m",
            "\u001b[0;31mAttributeError\u001b[0m                            Traceback (most recent call last)",
            "\u001b[0;32m<ipython-input-6-98deb9695e8a>\u001b[0m in \u001b[0;36m?\u001b[0;34m()\u001b[0m\n\u001b[0;32m----> 1\u001b[0;31m \u001b[0mprint\u001b[0m\u001b[0;34m(\u001b[0m\u001b[0mshow\u001b[0m\u001b[0;34m.\u001b[0m\u001b[0mdtype\u001b[0m\u001b[0;34m(\u001b[0m\u001b[0;34m)\u001b[0m\u001b[0;34m)\u001b[0m\u001b[0;34m\u001b[0m\u001b[0;34m\u001b[0m\u001b[0m\n\u001b[0m",
            "\u001b[0;32m/lib/python3.12/site-packages/pandas/core/generic.py\u001b[0m in \u001b[0;36m?\u001b[0;34m(self, name)\u001b[0m\n\u001b[1;32m   6295\u001b[0m             \u001b[0;32mand\u001b[0m \u001b[0mname\u001b[0m \u001b[0;32mnot\u001b[0m \u001b[0;32min\u001b[0m \u001b[0mself\u001b[0m\u001b[0;34m.\u001b[0m\u001b[0m_accessors\u001b[0m\u001b[0;34m\u001b[0m\u001b[0;34m\u001b[0m\u001b[0m\n\u001b[1;32m   6296\u001b[0m             \u001b[0;32mand\u001b[0m \u001b[0mself\u001b[0m\u001b[0;34m.\u001b[0m\u001b[0m_info_axis\u001b[0m\u001b[0;34m.\u001b[0m\u001b[0m_can_hold_identifiers_and_holds_name\u001b[0m\u001b[0;34m(\u001b[0m\u001b[0mname\u001b[0m\u001b[0;34m)\u001b[0m\u001b[0;34m\u001b[0m\u001b[0;34m\u001b[0m\u001b[0m\n\u001b[1;32m   6297\u001b[0m         \u001b[0;34m)\u001b[0m\u001b[0;34m:\u001b[0m\u001b[0;34m\u001b[0m\u001b[0;34m\u001b[0m\u001b[0m\n\u001b[1;32m   6298\u001b[0m             \u001b[0;32mreturn\u001b[0m \u001b[0mself\u001b[0m\u001b[0;34m[\u001b[0m\u001b[0mname\u001b[0m\u001b[0;34m]\u001b[0m\u001b[0;34m\u001b[0m\u001b[0;34m\u001b[0m\u001b[0m\n\u001b[0;32m-> 6299\u001b[0;31m         \u001b[0;32mreturn\u001b[0m \u001b[0mobject\u001b[0m\u001b[0;34m.\u001b[0m\u001b[0m__getattribute__\u001b[0m\u001b[0;34m(\u001b[0m\u001b[0mself\u001b[0m\u001b[0;34m,\u001b[0m \u001b[0mname\u001b[0m\u001b[0;34m)\u001b[0m\u001b[0;34m\u001b[0m\u001b[0;34m\u001b[0m\u001b[0m\n\u001b[0m",
            "\u001b[0;31mAttributeError\u001b[0m: 'DataFrame' object has no attribute 'dtype'"
          ],
          "output_type": "error"
        }
      ],
      "execution_count": 6
    },
    {
      "id": "69865afa-f2b0-4af4-93dd-af154fb3d730",
      "cell_type": "code",
      "source": "",
      "metadata": {
        "trusted": true
      },
      "outputs": [],
      "execution_count": null
    }
  ]
}