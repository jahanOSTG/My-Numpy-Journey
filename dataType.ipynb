{
  "metadata": {
    "kernelspec": {
      "name": "python",
      "display_name": "Python (Pyodide)",
      "language": "python"
    },
    "language_info": {
      "codemirror_mode": {
        "name": "python",
        "version": 3
      },
      "file_extension": ".py",
      "mimetype": "text/x-python",
      "name": "python",
      "nbconvert_exporter": "python",
      "pygments_lexer": "ipython3",
      "version": "3.8"
    }
  },
  "nbformat_minor": 5,
  "nbformat": 4,
  "cells": [
    {
      "id": "59ea7c7f-5764-47f8-8a3e-70d8bd57de73",
      "cell_type": "markdown",
      "source": "### Data Types in NumPy\n- NumPy has some extra data types, and refer to data types with one character, like i for integers, u for unsigned integers etc.\n\nBelow is a list of all data types in NumPy and the characters used to represent them.\n\n- i - integer\n- b - boolean\n- u - unsigned integer\n- f - float\n- c - complex float\n- m - timedelta\n-M - datetime\nO - object\nS - string\nU - unicode string\nV - fixed chunk of memory for other type ( void )",
      "metadata": {}
    },
    {
      "id": "bbb4a4e7-74b4-47c3-9f7b-8e9e55cf3f02",
      "cell_type": "code",
      "source": "import numpy as np\narr=np.array([2,5,8,3])\nprint(arr)\nprint(arr.dtype)",
      "metadata": {
        "trusted": true
      },
      "outputs": [
        {
          "name": "stdout",
          "output_type": "stream",
          "text": "[2 5 8 3]\nint32\n"
        }
      ],
      "execution_count": 1
    },
    {
      "id": "e53cabe5-8fde-47f9-82b3-409367e6f3d0",
      "cell_type": "code",
      "source": "import numpy as np\narr=np.array([\"de\",\"er\"])\nprint(arr)\nprint(arr.dtype)",
      "metadata": {
        "trusted": true
      },
      "outputs": [
        {
          "name": "stdout",
          "output_type": "stream",
          "text": "['de' 'er']\n<U2\n"
        }
      ],
      "execution_count": 2
    },
    {
      "id": "733a7c0b-a39a-431f-81dd-231158da2263",
      "cell_type": "markdown",
      "source": "## creating array with a defined type",
      "metadata": {}
    },
    {
      "id": "65bb6b90-013d-489c-9d73-87d4959600cc",
      "cell_type": "code",
      "source": "import numpy as np\narr=np.array([2,5,8,3],dtype='S')\nprint(arr)\nprint(arr.dtype)",
      "metadata": {
        "trusted": true
      },
      "outputs": [
        {
          "name": "stdout",
          "output_type": "stream",
          "text": "[b'2' b'5' b'8' b'3']\n|S1\n"
        }
      ],
      "execution_count": 3
    },
    {
      "id": "571c69f5-6b06-4e36-9f02-803cf43be490",
      "cell_type": "code",
      "source": "import numpy as np\narr=np.array([2,5,8,3])\nnew_arr=arr.astype('f')\nprint(new_arr)",
      "metadata": {
        "trusted": true
      },
      "outputs": [
        {
          "name": "stdout",
          "output_type": "stream",
          "text": "[2. 5. 8. 3.]\n"
        }
      ],
      "execution_count": 5
    },
    {
      "id": "642af4f7-d8ca-4480-86a8-ef9e5a006576",
      "cell_type": "code",
      "source": "print(new_arr.dtype)",
      "metadata": {
        "trusted": true
      },
      "outputs": [
        {
          "name": "stdout",
          "output_type": "stream",
          "text": "float32\n"
        }
      ],
      "execution_count": 6
    },
    {
      "id": "ac18533b-7e31-4c06-8deb-a69772a63ab7",
      "cell_type": "code",
      "source": "import numpy as np\narr=np.array([0,3,0,5,0,0,0,4,6,7])\nnew_arr=arr.astype('bool')\nprint(new_arr)",
      "metadata": {
        "trusted": true
      },
      "outputs": [
        {
          "name": "stdout",
          "output_type": "stream",
          "text": "[False  True False  True False False False  True  True  True]\n"
        }
      ],
      "execution_count": 7
    },
    {
      "id": "fc9d8f38-85d8-4ed9-b3ea-01e402dc1e3e",
      "cell_type": "code",
      "source": "print(new_arr.dtype)",
      "metadata": {
        "trusted": true
      },
      "outputs": [
        {
          "name": "stdout",
          "output_type": "stream",
          "text": "bool\n"
        }
      ],
      "execution_count": 8
    },
    {
      "id": "fbb4f1a1-88fc-439e-846c-783216f64671",
      "cell_type": "code",
      "source": "import numpy as np\narr=np.array([2,5,8,3])\nnew_arr=arr.astype('i')\nprint(new_arr)",
      "metadata": {
        "trusted": true
      },
      "outputs": [
        {
          "name": "stdout",
          "output_type": "stream",
          "text": "[2 5 8 3]\n"
        }
      ],
      "execution_count": 10
    },
    {
      "id": "8a332f1b-d114-4629-b40b-d6b6261f4a7a",
      "cell_type": "code",
      "source": "import numpy as np\narr=np.array([2,5,8,3])\nnew_arr=arr.astype('c')\nprint(new_arr)",
      "metadata": {
        "trusted": true
      },
      "outputs": [
        {
          "name": "stdout",
          "output_type": "stream",
          "text": "[b'2' b'5' b'8' b'3']\n"
        }
      ],
      "execution_count": 11
    },
    {
      "id": "dbd5c979-41f6-44bd-92e1-0bf172c785e7",
      "cell_type": "code",
      "source": "import numpy as np\narr=np.array([2,5,8,3])\nnew_arr=arr.astype('m')\nprint(new_arr)",
      "metadata": {
        "trusted": true
      },
      "outputs": [
        {
          "name": "stdout",
          "output_type": "stream",
          "text": "[2 5 8 3]\n"
        }
      ],
      "execution_count": 13
    },
    {
      "id": "4bf4a132-1777-47ff-9071-44f6381ac1f7",
      "cell_type": "code",
      "source": "",
      "metadata": {
        "trusted": true
      },
      "outputs": [],
      "execution_count": null
    }
  ]
}